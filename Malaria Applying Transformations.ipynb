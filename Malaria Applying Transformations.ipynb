{
 "cells": [
  {
   "cell_type": "code",
   "execution_count": 14,
   "id": "f5537d66",
   "metadata": {},
   "outputs": [],
   "source": [
    "import os\n",
    "import cv2\n",
    "import numpy as np"
   ]
  },
  {
   "cell_type": "markdown",
   "id": "a17b5965",
   "metadata": {},
   "source": [
    "# Renaming the images"
   ]
  },
  {
   "cell_type": "code",
   "execution_count": 2,
   "id": "c34a6a38",
   "metadata": {},
   "outputs": [],
   "source": [
    "def rename_images(dataset_old, dataset_new):\n",
    "\n",
    "    os.makedirs(dataset_new, exist_ok=True)\n",
    "\n",
    "    c = 1\n",
    "\n",
    "    for filename in os.listdir(dataset_old):\n",
    "        if filename.endswith('.jpg') or filename.endswith('.png'):\n",
    "            original_image_path = os.path.join(dataset_old, filename)\n",
    "            original_image = cv2.imread(original_image_path)\n",
    "\n",
    "            image_name = f\"{c}.jpg\"\n",
    "\n",
    "            final_image_path = os.path.join(dataset_new, image_name)\n",
    "            cv2.imwrite(final_image_path, original_image)\n",
    "\n",
    "            c = c + 1"
   ]
  },
  {
   "cell_type": "code",
   "execution_count": 3,
   "id": "7c877967",
   "metadata": {},
   "outputs": [],
   "source": [
    "dataset_train_infected = \"D:/Work/My work/ammar/Dataset/Dataset/Train/Parasite\"\n",
    "dataset_train_uninfected = \"D:/Work/My work/ammar/Dataset/Dataset/Train/Uninfected\"\n",
    "dataset_test_infected = \"D:/Work/My work/ammar/Dataset/Dataset/Test/Parasite\"\n",
    "dataset_test_uninfected = \"D:/Work/My work/ammar/Dataset/Dataset/Test/Uninfected\"\n",
    "\n",
    "new_dataset_train_infected = \"D:/Work/My work/ammar/Dataset/Renamed_Dataset/Train/Parasite\"\n",
    "new_dataset_train_uninfected = \"D:/Work/My work/ammar/Dataset/Renamed_Dataset/Train/Uninfected\"\n",
    "new_dataset_test_infected = \"D:/Work/My work/ammar/Dataset/Renamed_Dataset/Test/Parasite\"\n",
    "new_dataset_test_uninfected = \"D:/Work/My work/ammar/Dataset/Renamed_Dataset/Test/Uninfected\"\n",
    "\n",
    "dataset_old = [dataset_train_infected, dataset_train_uninfected, dataset_test_infected, dataset_test_uninfected]\n",
    "dataset_new = [new_dataset_train_infected, new_dataset_train_uninfected, new_dataset_test_infected, new_dataset_test_uninfected]"
   ]
  },
  {
   "cell_type": "code",
   "execution_count": 4,
   "id": "ae0baadc",
   "metadata": {},
   "outputs": [],
   "source": [
    "for i, j in zip(dataset_old, dataset_new):\n",
    "    rename_images(i, j)"
   ]
  },
  {
   "cell_type": "markdown",
   "id": "ce26bf8a",
   "metadata": {},
   "source": [
    "# Applying grayscale to all images"
   ]
  },
  {
   "cell_type": "code",
   "execution_count": 5,
   "id": "d4dabea5",
   "metadata": {},
   "outputs": [],
   "source": [
    "def grayscale_images(dataset_old, dataset_new):\n",
    "\n",
    "    os.makedirs(dataset_new, exist_ok=True)\n",
    "\n",
    "    for filename in os.listdir(dataset_old):\n",
    "        if filename.endswith('.jpg') or filename.endswith('.png'):\n",
    "            original_image_path = os.path.join(dataset_old, filename)\n",
    "            original_image = cv2.imread(original_image_path)\n",
    "            \n",
    "            grayscale_image = cv2.cvtColor(original_image, cv2.COLOR_BGR2GRAY)#isko hatna h \n",
    "\n",
    "            final_image_path = os.path.join(dataset_new, filename)\n",
    "            cv2.imwrite(final_image_path, grayscale_image)"
   ]
  },
  {
   "cell_type": "code",
   "execution_count": 6,
   "id": "2184d4e3",
   "metadata": {},
   "outputs": [],
   "source": [
    "grayscale_dataset_train_infected = \"D:/Work/My work/ammar/Dataset/Grayscale_Dataset/Train/Parasite\"\n",
    "grayscale_dataset_train_uninfected = \"D:/Work/My work/ammar/Dataset/Grayscale_Dataset/Train/Uninfected\"\n",
    "grayscale_dataset_test_infected = \"D:/Work/My work/ammar/Dataset/Grayscale_Dataset/Test/Parasite\"\n",
    "grayscale_dataset_test_uninfected = \"D:/Work/My work/ammar/Dataset/Grayscale_Dataset/Test/Uninfected\"\n",
    "\n",
    "dataset_grayscale = [grayscale_dataset_train_infected, grayscale_dataset_train_uninfected, grayscale_dataset_test_infected, grayscale_dataset_test_uninfected]"
   ]
  },
  {
   "cell_type": "code",
   "execution_count": 7,
   "id": "51facdc4",
   "metadata": {},
   "outputs": [],
   "source": [
    "for i, j in zip(dataset_new, dataset_grayscale):\n",
    "    grayscale_images(i, j)"
   ]
  },
  {
   "cell_type": "markdown",
   "id": "088bb803",
   "metadata": {},
   "source": [
    "# Applying log transform to all images"
   ]
  },
  {
   "cell_type": "code",
   "execution_count": 16,
   "id": "3bb212d0",
   "metadata": {},
   "outputs": [],
   "source": [
    "def log_transform_images(dataset_old, dataset_new):\n",
    "\n",
    "    os.makedirs(dataset_new, exist_ok=True)\n",
    "\n",
    "    for filename in os.listdir(dataset_old):\n",
    "        if filename.endswith('.jpg') or filename.endswith('.png'):\n",
    "            original_image_path = os.path.join(dataset_old, filename)\n",
    "            original_image = cv2.imread(original_image_path)\n",
    "            \n",
    "            log_transform_image = np.log1p(original_image)\n",
    "\n",
    "            log_transform_image = (log_transform_image - np.min(log_transform_image)) / (np.max(log_transform_image) - np.min(log_transform_image)) * 255\n",
    "            log_transform_image = log_transform_image.astype(np.uint8)\n",
    "\n",
    "            final_image_path = os.path.join(dataset_new, filename)\n",
    "            cv2.imwrite(final_image_path, log_transform_image)"
   ]
  },
  {
   "cell_type": "code",
   "execution_count": 11,
   "id": "2d409a74",
   "metadata": {},
   "outputs": [],
   "source": [
    "log_transform_dataset_train_infected = \"D:/Work/My work/ammar/Dataset/Log_Transform_Dataset/Train/Parasite\"\n",
    "log_transform_dataset_train_uninfected = \"D:/Work/My work/ammar/Dataset/Log_Transform_Dataset/Train/Uninfected\"\n",
    "log_transform_dataset_test_infected = \"D:/Work/My work/ammar/Dataset/Log_Transform_Dataset/Test/Parasite\"\n",
    "log_transform_dataset_test_uninfected = \"D:/Work/My work/ammar/Dataset/Log_Transform_Dataset/Test/Uninfected\"\n",
    "\n",
    "dataset_log_transform = [log_transform_dataset_train_infected, log_transform_dataset_train_uninfected, log_transform_dataset_test_infected, log_transform_dataset_test_uninfected]"
   ]
  },
  {
   "cell_type": "code",
   "execution_count": 17,
   "id": "86ae573d",
   "metadata": {},
   "outputs": [],
   "source": [
    "for i, j in zip(dataset_grayscale, dataset_log_transform):\n",
    "    log_transform_images(i, j)"
   ]
  }
 ],
 "metadata": {
  "kernelspec": {
   "display_name": "Python 3 (ipykernel)",
   "language": "python",
   "name": "python3"
  },
  "language_info": {
   "codemirror_mode": {
    "name": "ipython",
    "version": 3
   },
   "file_extension": ".py",
   "mimetype": "text/x-python",
   "name": "python",
   "nbconvert_exporter": "python",
   "pygments_lexer": "ipython3",
   "version": "3.9.13"
  }
 },
 "nbformat": 4,
 "nbformat_minor": 5
}
